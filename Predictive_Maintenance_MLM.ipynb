{
 "cells": [
  {
   "cell_type": "code",
   "execution_count": 1,
   "metadata": {},
   "outputs": [],
   "source": [
    "import pandas as pd     \n",
    "from sklearn.model_selection import train_test_split\n",
    "import matplotlib.pyplot as plt\n",
    "from sklearn.linear_model import LinearRegression\n",
    "from sklearn.metrics import accuracy_score"
   ]
  },
  {
   "cell_type": "code",
   "execution_count": 2,
   "metadata": {},
   "outputs": [],
   "source": [
    "df = pd.read_csv('Predictive_Maintenance.csv')"
   ]
  },
  {
   "cell_type": "code",
   "execution_count": 3,
   "metadata": {},
   "outputs": [
    {
     "name": "stdout",
     "output_type": "stream",
     "text": [
      "<bound method NDFrame.head of         UDI Product ID Type  Air temperature [K]  Process temperature [K]  \\\n",
      "0         1     M14860    M                298.1                    308.6   \n",
      "1         2     L47181    L                298.2                    308.7   \n",
      "2         3     L47182    L                298.1                    308.5   \n",
      "3         4     L47183    L                298.2                    308.6   \n",
      "4         5     L47184    L                298.2                    308.7   \n",
      "...     ...        ...  ...                  ...                      ...   \n",
      "9995   9996     M24855    M                298.8                    308.4   \n",
      "9996   9997     H39410    H                298.9                    308.4   \n",
      "9997   9998     M24857    M                299.0                    308.6   \n",
      "9998   9999     H39412    H                299.0                    308.7   \n",
      "9999  10000     M24859    M                299.0                    308.7   \n",
      "\n",
      "      Rotational speed [rpm]  Torque [Nm]  Tool wear [min]  Machine failure  \\\n",
      "0                       1551         42.8                0                0   \n",
      "1                       1408         46.3                3                0   \n",
      "2                       1498         49.4                5                0   \n",
      "3                       1433         39.5                7                0   \n",
      "4                       1408         40.0                9                0   \n",
      "...                      ...          ...              ...              ...   \n",
      "9995                    1604         29.5               14                0   \n",
      "9996                    1632         31.8               17                0   \n",
      "9997                    1645         33.4               22                0   \n",
      "9998                    1408         48.5               25                0   \n",
      "9999                    1500         40.2               30                0   \n",
      "\n",
      "      TWF  HDF  PWF  OSF  RNF  \n",
      "0       0    0    0    0    0  \n",
      "1       0    0    0    0    0  \n",
      "2       0    0    0    0    0  \n",
      "3       0    0    0    0    0  \n",
      "4       0    0    0    0    0  \n",
      "...   ...  ...  ...  ...  ...  \n",
      "9995    0    0    0    0    0  \n",
      "9996    0    0    0    0    0  \n",
      "9997    0    0    0    0    0  \n",
      "9998    0    0    0    0    0  \n",
      "9999    0    0    0    0    0  \n",
      "\n",
      "[10000 rows x 14 columns]>\n",
      "shape of maintenance data: (10000, 14)\n",
      "Index(['UDI', 'Product ID', 'Type', 'Air temperature [K]',\n",
      "       'Process temperature [K]', 'Rotational speed [rpm]', 'Torque [Nm]',\n",
      "       'Tool wear [min]', 'Machine failure', 'TWF', 'HDF', 'PWF', 'OSF',\n",
      "       'RNF'],\n",
      "      dtype='object')\n"
     ]
    }
   ],
   "source": [
    "print(df.head)\n",
    "print(\"shape of maintenance data: {}\".format(df.shape))\n",
    "\n",
    "print(df.columns)"
   ]
  },
  {
   "cell_type": "code",
   "execution_count": 4,
   "metadata": {},
   "outputs": [
    {
     "name": "stdout",
     "output_type": "stream",
     "text": [
      "Training set score: 0.10\n",
      "Test set score: 0.11\n"
     ]
    }
   ],
   "source": [
    "X = df[['Torque [Nm]','Rotational speed [rpm]']]\n",
    "y = df['Machine failure']\n",
    "X_train, X_test, y_train, y_test = train_test_split(X,y, random_state = 0)\n",
    "\n",
    "lr = LinearRegression().fit(X_train,y_train)\n",
    "print(\"Training set score: {:.2f}\".format(lr.score(X_train,y_train)))\n",
    "print(\"Test set score: {:.2f}\".format(lr.score(X_test, y_test)))"
   ]
  }
 ],
 "metadata": {
  "kernelspec": {
   "display_name": "Python 3",
   "language": "python",
   "name": "python3"
  },
  "language_info": {
   "codemirror_mode": {
    "name": "ipython",
    "version": 3
   },
   "file_extension": ".py",
   "mimetype": "text/x-python",
   "name": "python",
   "nbconvert_exporter": "python",
   "pygments_lexer": "ipython3",
   "version": "3.12.3"
  },
  "orig_nbformat": 4
 },
 "nbformat": 4,
 "nbformat_minor": 2
}
